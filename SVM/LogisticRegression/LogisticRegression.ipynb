{
  "nbformat": 4,
  "nbformat_minor": 0,
  "metadata": {
    "colab": {
      "provenance": [],
      "toc_visible": true,
      "authorship_tag": "ABX9TyO/yN7Gk5b5/imEqwhzxfoU"
    },
    "kernelspec": {
      "name": "python3",
      "display_name": "Python 3"
    },
    "language_info": {
      "name": "python"
    }
  },
  "cells": [
    {
      "cell_type": "code",
      "execution_count": 14,
      "metadata": {
        "id": "NsxGApNY5-d3"
      },
      "outputs": [],
      "source": [
        "\n",
        "import numpy as np\n",
        "\n",
        "def sigmoid(x):\n",
        "    return 1/(1+np.exp(-x))\n",
        "\n",
        "class LogisticRegression:\n",
        "\n",
        "  def __init__(self,lr=0.01,n_iters=1000):\n",
        "\n",
        "    self.lr=lr\n",
        "    self.n_iters = n_iters\n",
        "    self.weight = None\n",
        "    self.bias = None\n",
        "\n",
        "\n",
        "\n",
        "  # def error(self,y_pred):\n",
        "\n",
        "  #   return (1/self.n_samples)*(np.sum((self.y*np.log(y_pred))+(1-self.y)*np.log(1-y_pred)))\n",
        "\n",
        "  def fit(self,X,y):\n",
        "    self.X = X\n",
        "    self.y = y\n",
        "    self.n_samples , self.n_features = X.shape\n",
        "    self.weight = np.zeros(self.n_features)\n",
        "    self.bias = 0\n",
        "\n",
        "    for _ in range(self.n_iters):\n",
        "\n",
        "      pred = X.dot(self.weight)+self.bias\n",
        "      y_pred  = sigmoid(pred)\n",
        "      # err = error(y_pred)\n",
        "\n",
        "      dw = (1/self.n_samples)*np.dot(X.T,(y_pred-y))\n",
        "      db = (1/self.n_samples)*np.sum(y_pred-y)\n",
        "\n",
        "      self.weight = self.weight - self.lr*dw\n",
        "      self.bias = self.bias - self.lr*db\n",
        "\n",
        "\n",
        "  def predict(self,x):\n",
        "    pred =  x.dot(self.weight)+self.bias\n",
        "    y_pred  = sigmoid(pred)\n",
        "\n",
        "    class_predictions = [0 if y<=0.5 else 1 for y in y_pred]\n",
        "    return class_predictions\n",
        "\n",
        "\n"
      ]
    },
    {
      "cell_type": "code",
      "source": [
        "from sklearn.model_selection import train_test_split\n",
        "from sklearn.datasets import load_breast_cancer\n",
        "import matplotlib.pyplot as plt\n",
        "\n",
        "datas = load_breast_cancer()\n",
        "X,y = datas.data, datas.target\n",
        "\n",
        "X_train,X_test,y_train,y_test = train_test_split(X,y,test_size=0.2,random_state=1234)\n",
        "\n",
        "plt.scatter(X[:,0],y,color='red',s=10)\n",
        "plt.show()"
      ],
      "metadata": {
        "colab": {
          "base_uri": "https://localhost:8080/",
          "height": 430
        },
        "id": "jZk0NCnmAeQg",
        "outputId": "51edb3aa-164e-4c23-ae49-e2594b753105"
      },
      "execution_count": 15,
      "outputs": [
        {
          "output_type": "display_data",
          "data": {
            "text/plain": [
              "<Figure size 640x480 with 1 Axes>"
            ],
            "image/png": "[encoded data removed]"
          },
          "metadata": {}
        }
      ]
    },
    {
      "cell_type": "code",
      "source": [
        "lg = LogisticRegression(lr=0.1)\n",
        "lg.fit(X_train,y_train)\n",
        "y_pred = lg.predict(X_test)\n",
        "\n",
        "def accuracy(y_pred,y_test):\n",
        "  return np.sum(y_pred==y_test)/len(y_test)\n",
        "\n",
        "print(accuracy(y_pred,y_test))"
      ],
      "metadata": {
        "colab": {
          "base_uri": "https://localhost:8080/"
        },
        "id": "NZzb_qV1Be_S",
        "outputId": "37b24817-376a-442a-9be9-7688e8d7b678"
      },
      "execution_count": 19,
      "outputs": [
        {
          "output_type": "stream",
          "name": "stdout",
          "text": [
            "0.9210526315789473\n"
          ]
        },
        {
          "output_type": "stream",
          "name": "stderr",
          "text": [
            "<ipython-input-14-e2eabe27c9c2>:4: RuntimeWarning: overflow encountered in exp\n",
            "  return 1/(1+np.exp(-x))\n"
          ]
        }
      ]
    }
  ]
}